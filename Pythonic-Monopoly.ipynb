# Unit 6 - Pythonic Monopoly

## San Francisco Housing Cost Analysis
# imports
import panel as pn
pn.extension('plotly')
import plotly.express as px
import pandas as pd
import hvplot.pandas
import matplotlib.pyplot as plt
import numpy as np
import os
from pathlib import Path
from dotenv import load_dotenv

import warnings
warnings.filterwarnings('ignore')


# Read the Mapbox API key
load_dotenv()
map_box_api = os.getenv("mapbox")


## Load Data
# Read the census data into a Pandas DataFrame
file_path = Path("../Homework 5/sfo_neighborhoods_census_data.csv")


# Read the CSV as a DataFrame
sfo_df = pd.read_csv(file_path, index_col="year")
sfo_df.head()


## Housing Units Per Year
# Calculate the average sale price per square foot and average gross rent
Investment_per_year_df = sfo_df.groupby('year').mean()
Investment_per_year_df


# Save the dataframe as a csv file
Investment_per_year_df.to_csv("../Homework 5/Investment_per_year.csv" , index=False)

# Slice for Average housing units
sfo_df = sfo_df["housing_units"]
sfo_df_avg = sfo_df.sort_values()
sfo_df_avg


# Use the Pandas plot function to plot the average housing units per year.
# Note: You will need to manually adjust the y limit of the chart using the min and max values from above.
sfo_df_avg.hvplot.bar()


## Average Housing Costs in San Francisco Per Year
# Calculate the mean number of housing units per year (hint: use groupby) 
sfo_df_avg = sfo_df.groupby('year').mean()
sfo_df_avg


# Create two line charts, one to plot the average sale price per square foot and another for average montly rent
# Line chart for average sale price per square foot
plt.xlabel("year")
plt.ylabel("sale_price_sqr_foot")
plt.title("Average Price per SqFt by Year")

plt.show()



# Create two line charts, one to plot the average sale price per square foot and another for average montly rent
# Line chart for average sale price per square foot
plt.xlabel("year")
plt.ylabel("gross_rent")
plt.title("Average Gross Rent by Year")

plt.show()



## Average Prices by Neighborhood
# Read the CSV into a Pandas DataFrame
suburb_df = pd.read_csv(file_path, index_col="year")
suburb_df


# Group by year and neighborhood and then create a new dataframe of the mean values
suburb_df.groupby(['year','neighborhood']).mean()


# Use hvplot to create an interactive line chart of the average price per sq ft.
# The plot should have a dropdown selector for the neighborhood
suburb_df.hvplot()



# Use hvplot to create an interactive line chart of the average monthly rent.
# The plot should have a dropdown selector for the neighborhood
suburb_df.hvplot.line(xlabel="month", ylabel="rent")



## The Top 10 Most Expensive Neighborhoods
# Getting the data from the top 10 expensive neighborhoods 
suburb_df = pd.read_csv(file_path, index_col="neighborhood")
expensive_suburb_df = suburb_df.sort_values("sale_price_sqr_foot", ascending=False)
expensive_suburb_df.head(10)


# Plotting the data from the top 10 expensive neighborhoods
expensive_suburb_df.plot(figsize=(10,5), title="Top 10 expensive neighborhoods", rot=90)


## Comparing cost to purchase versus rental income
# Fetch the previously generated DataFrame that was grouped by year and neighborhood
# Use the `drop` function to drop specific columns
expensive_suburb_df.drop(columns=['housing_units'], inplace=True)
expensive_suburb_df.head()


# Plot a hvplot bar chart of Top 10 Expensive Neighborhoods
expensive_suburb_df.hvplot.bar(title='Top 10 Expensive Neighborhoods in San Francisco')

print("Based on the above analysis of the top ten expensive neighborhood, the highest sale per square metre is $2258 as compare to rental amount $3739. It is cheaper to purchase than to rent.")



## Neighborhood Map
Load Location Data
# Load neighborhoods coordinates data
df = pd.read_csv("../Homework 5/neighborhoods_coordinates.csv")


Data Preparation
# Calculate the mean values for each neighborhood
df.mean()


# Join the average values with the neighborhood locations
# Prep Data
# Read in data
df1 = pd.read_csv(file_path).drop_duplicates()
df2 = pd.read_csv("../Homework 5/neighborhoods_coordinates.csv")

df = pd.concat([df1, df2], axis=1, join='inner')

df.tail()



# Merge the DataFrames
df = df1.merge(df2, left_on='neighborhood', right_on='Neighborhood')
df.head()



# check Na
df.isna().sum()



# drop Na
df.dropna(inplace=True)
df



## Mapbox Visualization
# Set the mapbox access token
# YOUR CODE HERE!
load_dotenv()
map_box_api = os.getenv("mapbox")


# Set the Mapbox API
px.set_mapbox_access_token(map_box_api)


# Read the CSV into a Pandas DataFrame
suburb_df = pd.read_csv(file_path)
suburb_df.head()


# Prep Data
# Read in data
df1 = pd.read_csv(file_path).drop_duplicates()
df2 = pd.read_csv("../Homework 5/neighborhoods_coordinates.csv")

df = pd.concat([df1, df2], axis=1, join='inner')

df.tail()



# Merge the DataFrames
df = df1.merge(df2, left_on='neighborhood', right_on='Neighborhood')
df.head()



# Prep Data
# Read in data
data_to_plot = df[["neighborhood", "sale_price_sqr_foot", "housing_units", "gross_rent", "Lat", "Lon"]]
df = df[df == "San Francisco"]




# Create a scatter mapbox to analyze neighborhood info
# Slice and plot data by name
map = px.scatter_mapbox(
    df,
    lat="Lat",
    lon="Lon",
    color="gross_rent",
    zoom=4
)
map.show()



## Cost Analysis - Optional Challenge
Create a DataFrame showing the most expensive neighborhoods in San Francisco by year
# Fetch the data from all expensive neighborhoods per year.
expensive_suburb_df = df_costs[df_costs["neighborhood"].isin(expensive_suburb_df["neighborhood"])]
expensive_suburb_df.head()



Create a parallel coordinates plot and parallel categories plot of most expensive neighborhoods in San Francisco per year
# Parallel Categories Plot
px.parallel_categories(
    expensive_suburb_df,
    dimensions=["neighborhood", "sale_price_sqr_foot", "housing_units"],
    color="gross_rent"
)




# Parallel Coordinates Plot
px.parallel_coordinates(expensive_suburb_df, color='sale_price_sqr_foot')



Create a sunburst chart to conduct a costs analysis of most expensive neighborhoods in San Francisco per year
# Sunburst Plot
df = px.data()
fig = px.sunburst(df, path=['year', 'neighborhood'])
fig.show()

## Cost Analysis - Optional Challenge
